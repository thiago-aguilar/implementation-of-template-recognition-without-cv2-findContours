{
 "cells": [
  {
   "cell_type": "markdown",
   "metadata": {},
   "source": [
    "# TRABALHO PRÁTICO 1 - COMPUTAÇÃO VISUAL\n",
    "\n",
    "Thiago Borges Aguilar\n",
    "\n",
    "Guilherme Henrique de Almeida Leles\n"
   ]
  },
  {
   "cell_type": "markdown",
   "metadata": {},
   "source": [
    "## Importação das bibliotecas utilizadas"
   ]
  },
  {
   "cell_type": "code",
   "execution_count": 20,
   "metadata": {},
   "outputs": [],
   "source": [
    "import cv2\n",
    "import numpy as np\n",
    "from matplotlib import pyplot as plt\n",
    "import math\n",
    "import numpy as np\n",
    "\n",
    "\n",
    "videoFinal=[]"
   ]
  },
  {
   "cell_type": "markdown",
   "metadata": {},
   "source": [
    "## Função de template matching 1"
   ]
  },
  {
   "cell_type": "code",
   "execution_count": 21,
   "metadata": {},
   "outputs": [],
   "source": [
    "def compara1(imageA, imageB):\n",
    "    # implementando metodo meanSquaredError\n",
    "    err = np.sum((imageA.astype(\"float\") - imageB.astype(\"float\")) ** 2)\n",
    "    err /= float(imageA.shape[0] * imageA.shape[1])\n",
    "\n",
    "    return err\n",
    "\n"
   ]
  },
  {
   "cell_type": "markdown",
   "metadata": {},
   "source": [
    "Nesta função é implementando metodo do erro quadrático médio,onde o escore é o erro quadrático entre as duas imagens.\n"
   ]
  },
  {
   "cell_type": "markdown",
   "metadata": {},
   "source": [
    "## Função de template matching 2"
   ]
  },
  {
   "cell_type": "code",
   "execution_count": 22,
   "metadata": {},
   "outputs": [],
   "source": [
    "def  compara2(imageA, imageB):\n",
    "    #implementando metodo CCORR\n",
    "\n",
    "    numerador = np.sum((imageA.astype(\"float\") * imageB.astype(\"float\")))\n",
    "    denominador1 = np.sum ( imageA.astype(\"float\")**2)\n",
    "    denominador2 = np.sum ( imageB.astype(\"float\")**2)\n",
    "    denominador = math.sqrt(denominador1*denominador2)\n",
    "    err=numerador/denominador\n",
    "    # err = numerador\n",
    "    return err"
   ]
  },
  {
   "cell_type": "markdown",
   "metadata": {},
   "source": [
    " Para o segundo método de template matching calculamos, a soma da multiplicação entre as imagens e dividimos pela multiplicação da soma de cada cordenada. o erro é o socre do quão diferentes essas imagens são. \n"
   ]
  },
  {
   "cell_type": "markdown",
   "metadata": {},
   "source": [
    "## Função para rotação da imagem"
   ]
  },
  {
   "cell_type": "code",
   "execution_count": 23,
   "metadata": {},
   "outputs": [],
   "source": [
    "def rotateImage(image, angleInDegrees):\n",
    "    h, w = image.shape[:2]\n",
    "    img_c = (w / 2, h / 2)\n",
    "\n",
    "    rot = cv2.getRotationMatrix2D(img_c, angleInDegrees, 1)\n",
    "    rad = math.radians(angleInDegrees)\n",
    "    sin = math.sin(rad)\n",
    "    cos = math.cos(rad)\n",
    "    b_w = int((h * abs(sin)) + (w * abs(cos)))\n",
    "    b_h = int((h * abs(cos)) + (w * abs(sin)))\n",
    "    rot[0, 2] += ((b_w / 2) - img_c[0])\n",
    "    rot[1, 2] += ((b_h / 2) - img_c[1])\n",
    "\n",
    "    outImg = cv2.warpAffine(image, rot, (b_w, b_h), flags=cv2.INTER_LINEAR)\n",
    "    return outImg"
   ]
  },
  {
   "cell_type": "markdown",
   "metadata": {},
   "source": [
    "Definindo as coordenas da imagem e calculando a matriz de rotação.A rotação de cada alvo é utilizada para definir em qual posição ele está na imagem. "
   ]
  },
  {
   "cell_type": "markdown",
   "metadata": {},
   "source": [
    "# Main routine"
   ]
  },
  {
   "cell_type": "code",
   "execution_count": 24,
   "metadata": {},
   "outputs": [],
   "source": [
    " METODO= 1  #0 PARA MeanSquaredError | 1 para CCORR "
   ]
  },
  {
   "cell_type": "markdown",
   "metadata": {},
   "source": [
    "Variável para escolha da função de template matching."
   ]
  },
  {
   "cell_type": "code",
   "execution_count": 25,
   "metadata": {},
   "outputs": [],
   "source": [
    "\n",
    "img = cv2.imread('alvo.jpg', 0)\n",
    "crop_img = img[:, 3:-4]\n",
    "\n",
    "alvo1=np.copy(crop_img)\n",
    "alvo2= rotateImage(alvo1,90)\n",
    "alvo3= rotateImage(alvo2,90)\n",
    "alvo4= rotateImage(alvo3,90)\n",
    "\n"
   ]
  },
  {
   "cell_type": "markdown",
   "metadata": {},
   "source": [
    "Redimencionando o alvo para uma matriz quadrada, também rotacnionando em 90°,180° e 270°."
   ]
  },
  {
   "cell_type": "code",
   "execution_count": 26,
   "metadata": {},
   "outputs": [],
   "source": [
    "# capture frames from a camera\n",
    "cap = cv2.VideoCapture('entrada.avi')\n",
    "frame_width = int(cap.get(3))\n",
    "frame_height = int(cap.get(4))\n",
    "\n",
    "# Define the codec and create VideoWriter object.The output is stored in 'outpy.avi' file.\n",
    "out = cv2.VideoWriter('outpy.avi', cv2.VideoWriter_fourcc('M', 'J', 'P', 'G'), 30 , (frame_width, frame_height))\n",
    "\n",
    "tamXimg = alvo1.shape[1]\n",
    "tamYimg = alvo1.shape[0]\n",
    "witdh = cap.get(3)  # float\n",
    "height = cap.get(4)  # float\n",
    "rows = math.floor(height)  # transforma em int\n",
    "cols = math.floor(witdh)  # transforma em int\n",
    "rows = rows\n",
    "cols = cols"
   ]
  },
  {
   "cell_type": "code",
   "execution_count": null,
   "metadata": {},
   "outputs": [],
   "source": []
  },
  {
   "cell_type": "markdown",
   "metadata": {},
   "source": [
    "### Loop de captura de frames"
   ]
  },
  {
   "cell_type": "code",
   "execution_count": 27,
   "metadata": {},
   "outputs": [],
   "source": [
    "\n",
    "# loop runs if capturing has been initialized\n",
    "while (1):\n",
    "\n",
    "    # reads frames from a camera\n",
    "    ret, frame = cap.read()\n",
    "    if not ret: break\n",
    "   \n",
    "    gray = cv2.cvtColor(frame, cv2.COLOR_BGR2GRAY)\n",
    "    gray = np.float32(gray)\n",
    "     # Display an original image\n",
    "    # cv2.imshow('Original', frame)\n",
    "    original=np.copy(frame)\n",
    "    final=np.copy(original)\n",
    "    original = cv2.cvtColor(original, cv2.COLOR_BGR2GRAY)\n",
    "    "
   ]
  },
  {
   "cell_type": "code",
   "execution_count": 28,
   "metadata": {},
   "outputs": [
    {
     "ename": "TypeError",
     "evalue": "'NoneType' object does not support item assignment",
     "output_type": "error",
     "traceback": [
      "\u001b[0;31m---------------------------------------------------------------------------\u001b[0m",
      "\u001b[0;31mTypeError\u001b[0m                                 Traceback (most recent call last)",
      "\u001b[0;32m<ipython-input-28-0ef84eda6fbe>\u001b[0m in \u001b[0;36m<module>\u001b[0;34m\u001b[0m\n\u001b[1;32m      3\u001b[0m \u001b[0mdst\u001b[0m \u001b[0;34m=\u001b[0m \u001b[0mcv2\u001b[0m\u001b[0;34m.\u001b[0m\u001b[0mcornerHarris\u001b[0m\u001b[0;34m(\u001b[0m\u001b[0mgray\u001b[0m\u001b[0;34m,\u001b[0m \u001b[0;36m2\u001b[0m\u001b[0;34m,\u001b[0m \u001b[0;36m3\u001b[0m\u001b[0;34m,\u001b[0m \u001b[0;36m0.04\u001b[0m\u001b[0;34m)\u001b[0m\u001b[0;34m\u001b[0m\u001b[0;34m\u001b[0m\u001b[0m\n\u001b[1;32m      4\u001b[0m \u001b[0medges\u001b[0m \u001b[0;34m=\u001b[0m \u001b[0mcv2\u001b[0m\u001b[0;34m.\u001b[0m\u001b[0mCanny\u001b[0m\u001b[0;34m(\u001b[0m\u001b[0mframe\u001b[0m\u001b[0;34m,\u001b[0m \u001b[0;36m150\u001b[0m\u001b[0;34m,\u001b[0m\u001b[0;36m250\u001b[0m\u001b[0;34m)\u001b[0m\u001b[0;34m\u001b[0m\u001b[0;34m\u001b[0m\u001b[0m\n\u001b[0;32m----> 5\u001b[0;31m \u001b[0mframe\u001b[0m\u001b[0;34m[\u001b[0m\u001b[0mdst\u001b[0m \u001b[0;34m>\u001b[0m \u001b[0;36m0.0005\u001b[0m \u001b[0;34m*\u001b[0m \u001b[0mdst\u001b[0m\u001b[0;34m.\u001b[0m\u001b[0mmax\u001b[0m\u001b[0;34m(\u001b[0m\u001b[0;34m)\u001b[0m\u001b[0;34m]\u001b[0m \u001b[0;34m=\u001b[0m \u001b[0;34m[\u001b[0m\u001b[0;36m0\u001b[0m\u001b[0;34m,\u001b[0m \u001b[0;36m0\u001b[0m\u001b[0;34m,\u001b[0m \u001b[0;36m255\u001b[0m\u001b[0;34m]\u001b[0m\u001b[0;34m\u001b[0m\u001b[0;34m\u001b[0m\u001b[0m\n\u001b[0m",
      "\u001b[0;31mTypeError\u001b[0m: 'NoneType' object does not support item assignment"
     ]
    }
   ],
   "source": [
    "    # finds edges in the input image image and\n",
    "    # marks them in the output map edges\n",
    "    dst = cv2.cornerHarris(gray, 2, 3, 0.04)\n",
    "    edges = cv2.Canny(frame, 150,250)\n",
    "    frame[dst > 0.0005 * dst.max()] = [0, 0, 255]"
   ]
  },
  {
   "cell_type": "code",
   "execution_count": null,
   "metadata": {},
   "outputs": [],
   "source": [
    "    quinas=[]\n",
    "    pontos=[]\n",
    "    contaQuinas=0\n",
    "    contador=0\n",
    "    homografias=[]"
   ]
  },
  {
   "cell_type": "code",
   "execution_count": 31,
   "metadata": {},
   "outputs": [
    {
     "ename": "IndentationError",
     "evalue": "unindent does not match any outer indentation level (<tokenize>, line 16)",
     "output_type": "error",
     "traceback": [
      "\u001b[0;36m  File \u001b[0;32m\"<tokenize>\"\u001b[0;36m, line \u001b[0;32m16\u001b[0m\n\u001b[0;31m    contador=contador+1\u001b[0m\n\u001b[0m    ^\u001b[0m\n\u001b[0;31mIndentationError\u001b[0m\u001b[0;31m:\u001b[0m unindent does not match any outer indentation level\n"
     ]
    }
   ],
   "source": [
    "for i in range(cols-1):\n",
    "        for j in range(rows-1):\n",
    "            if (np.array_equal(255, edges[j, i])) and np.array_equal([0,0,255], frame[j, i]): #verifica se chegou em pixel que é borda e quina\n",
    "                x=i\n",
    "                y=j\n",
    "                lastx=0\n",
    "                lasty=0\n",
    "                lastlastx=-1\n",
    "                lastlasty=-1\n",
    "                sair=1\n",
    "                contaQuinas=1\n",
    "                pontos.append([y, x])  # se acabou de entrar, guarda o ponto inicial\n",
    "                quinas.append([y, x])\n",
    "                contador=\n",
    "                                   while sair==1:\n",
    "                    contador=contador+1\n",
    "                    if lastx<=x and lasty >=y :\n",
    "                        if (np.array_equal(255, edges[y, x - 1])) and ((lastx != (x - 1)) or (lasty != y))and((lastlastx != (x - 1)) or (lastlasty != y)):\n",
    "                            lastlastx = lastx\n",
    "                            lastlasty = lasty\n",
    "                            lastx = x\n",
    "                            lasty= y\n",
    "                            x = x - 1\n",
    "                        elif (np.array_equal(255, edges[y - 1, x - 1])) and ((lastx != (x - 1)) or (lasty != (y - 1)))and((lastlastx != (x - 1)) or (lastlasty != (y - 1))):\n",
    "                            lastlastx = lastx\n",
    "                            lastlasty = lasty\n",
    "                            lastx = x\n",
    "                            lasty = y\n",
    "                            x = x - 1\n",
    "                            y = y - 1\n",
    "                        elif (np.array_equal(255, edges[y-1, x])) and ((lastx != x) or (lasty != (y - 1)))and((lastlastx != x) or (lastlasty != (y - 1))):\n",
    "                            lastlastx = lastx\n",
    "                            lastlasty = lasty\n",
    "                            lastx = x\n",
    "                            lasty = y\n",
    "                            x = x\n",
    "                            y = y - 1\n",
    "                        elif (np.array_equal(255, edges[y-1, x+1])) and ((lastx != (x + 1)) or (lasty != (y - 1)))and((lastlastx != (x + 1)) or (lastlasty != (y - 1))):\n",
    "                            lastlastx = lastx\n",
    "                            lastlasty = lasty\n",
    "                            lastx = x\n",
    "                            lasty = y\n",
    "                            x = x + 1\n",
    "                            y = y - 1\n",
    "                        elif (np.array_equal(255, edges[y, x+1 ])) and ((lastx != (x + 1)) or (lasty != y))and((lastlastx != (x + 1)) or (lastlasty != y)):\n",
    "                            lastlastx=lastx\n",
    "                            lastlasty=lasty\n",
    "                            lasty=y\n",
    "                            lastx = x\n",
    "                            x = x + 1\n",
    "                        elif (np.array_equal(255, edges[y + 1, x + 1])) and ((lastx != (x + 1)) or (lasty != (y + 1))) and ((lastlastx != (x + 1)) or (lastlasty != (y + 1))):\n",
    "                            lastlastx = lastx\n",
    "                            lastlasty = lasty\n",
    "                            lastx = x\n",
    "                            lasty = y\n",
    "                            x = x + 1\n",
    "                            y = y + 1\n",
    "                        elif (np.array_equal(255, edges[y+1, x])) and ((lastx != x) or (lasty != (y + 1)))and ((lastlastx != x) or (lastlasty != (y + 1))):\n",
    "                            lastlastx = lastx\n",
    "                            lastlasty = lasty\n",
    "                            lastx=x\n",
    "                            lasty = y\n",
    "                            y = y + 1\n",
    "                        elif (np.array_equal(255, edges[y + 1, x - 1])) and ((lastx != (x - 1)) or (lasty != (y + 1)))and((lastlastx != (x - 1)) or (lastlasty != (y + 1))):\n",
    "                            lastlastx = lastx\n",
    "                            lastlasty = lasty\n",
    "                            lastx = x\n",
    "                            lasty = y\n",
    "                            x = x - 1\n",
    "                            y = y + 1\n",
    "\n",
    "                    elif lastx<=x and lasty <y :\n",
    "                        if (np.array_equal(255, edges[y-1, x])) and ((lastx != x) or (lasty != (y - 1)))and((lastlastx != x) or (lastlasty != (y - 1))):\n",
    "                            lastlastx = lastx\n",
    "                            lastlasty = lasty\n",
    "                            lastx = x\n",
    "                            lasty = y\n",
    "                            x = x\n",
    "                            y = y - 1\n",
    "                        elif (np.array_equal(255, edges[y-1, x+1])) and ((lastx != (x + 1)) or (lasty != (y - 1)))and((lastlastx != (x + 1)) or (lastlasty != (y - 1))):\n",
    "                            lastlastx = lastx\n",
    "                            lastlasty = lasty\n",
    "                            lastx = x\n",
    "                            lasty = y\n",
    "                            x = x + 1\n",
    "                            y = y - 1\n",
    "                        elif (np.array_equal(255, edges[y, x+1 ])) and ((lastx != (x + 1)) or (lasty != y))and((lastlastx != (x + 1)) or (lastlasty != y)):\n",
    "                            lastlastx=lastx\n",
    "                            lastlasty=lasty\n",
    "                            lasty=y\n",
    "                            lastx = x\n",
    "                            x = x + 1\n",
    "                        elif (np.array_equal(255, edges[y + 1, x + 1])) and ((lastx != (x + 1)) or (lasty != (y + 1))) and ((lastlastx != (x + 1)) or (lastlasty != (y + 1))):\n",
    "                            lastlastx = lastx\n",
    "                            lastlasty = lasty\n",
    "                            lastx = x\n",
    "                            lasty = y\n",
    "                            x = x + 1\n",
    "                            y = y + 1\n",
    "                        elif (np.array_equal(255, edges[y+1, x])) and ((lastx != x) or (lasty != (y + 1)))and ((lastlastx != x) or (lastlasty != (y + 1))):\n",
    "                            lastlastx = lastx\n",
    "                            lastlasty = lasty\n",
    "                            lastx=x\n",
    "                            lasty = y\n",
    "                            y = y + 1\n",
    "                        elif (np.array_equal(255, edges[y + 1, x - 1])) and ((lastx != (x - 1)) or (lasty != (y + 1)))and((lastlastx != (x - 1)) or (lastlasty != (y + 1))):\n",
    "                            lastlastx = lastx\n",
    "                            lastlasty = lasty\n",
    "                            lastx = x\n",
    "                            lasty = y\n",
    "                            x = x - 1\n",
    "                            y = y + 1\n",
    "                        elif (np.array_equal(255, edges[y, x - 1])) and ((lastx != (x - 1)) or (lasty != y))and((lastlastx != (x - 1)) or (lastlasty != y)):\n",
    "                            lastlastx = lastx\n",
    "                            lastlasty = lasty\n",
    "                            lastx = x\n",
    "                            lasty= y\n",
    "                            x = x - 1\n",
    "                        elif (np.array_equal(255, edges[y - 1, x - 1])) and ((lastx != (x - 1)) or (lasty != (y - 1)))and((lastlastx != (x - 1)) or (lastlasty != (y - 1))):\n",
    "                            lastlastx = lastx\n",
    "                            lastlasty = lasty\n",
    "                            lastx = x\n",
    "                            lasty = y\n",
    "                            x = x - 1\n",
    "                            y = y - 1\n",
    "\n",
    "                    elif lastx>x and lasty>=y :\n",
    "                        if (np.array_equal(255, edges[y+1, x])) and ((lastx != x) or (lasty != (y + 1)))and ((lastlastx != x) or (lastlasty != (y + 1))):\n",
    "                            lastlastx = lastx\n",
    "                            lastlasty = lasty\n",
    "                            lastx=x\n",
    "                            lasty = y\n",
    "                            y = y + 1\n",
    "                        elif (np.array_equal(255, edges[y + 1, x - 1])) and ((lastx != (x - 1)) or (lasty != (y + 1)))and((lastlastx != (x - 1)) or (lastlasty != (y + 1))):\n",
    "                            lastlastx = lastx\n",
    "                            lastlasty = lasty\n",
    "                            lastx = x\n",
    "                            lasty = y\n",
    "                            x = x - 1\n",
    "                            y = y + 1\n",
    "                        elif (np.array_equal(255, edges[y, x - 1])) and ((lastx != (x - 1)) or (lasty != y))and((lastlastx != (x - 1)) or (lastlasty != y)):\n",
    "                            lastlastx = lastx\n",
    "                            lastlasty = lasty\n",
    "                            lastx = x\n",
    "                            lasty= y\n",
    "                            x = x - 1\n",
    "                        elif (np.array_equal(255, edges[y - 1, x - 1])) and ((lastx != (x - 1)) or (lasty != (y - 1)))and((lastlastx != (x - 1)) or (lastlasty != (y - 1))):\n",
    "                            lastlastx = lastx\n",
    "                            lastlasty = lasty\n",
    "                            lastx = x\n",
    "                            lasty = y\n",
    "                            x = x - 1\n",
    "                            y = y - 1\n",
    "                        elif (np.array_equal(255, edges[y-1, x])) and ((lastx != x) or (lasty != (y - 1)))and((lastlastx != x) or (lastlasty != (y - 1))):\n",
    "                            lastlastx = lastx\n",
    "                            lastlasty = lasty\n",
    "                            lastx = x\n",
    "                            lasty = y\n",
    "                            x = x\n",
    "                            y = y - 1\n",
    "                        elif (np.array_equal(255, edges[y-1, x+1])) and ((lastx != (x + 1)) or (lasty != (y - 1)))and((lastlastx != (x + 1)) or (lastlasty != (y - 1))):\n",
    "                            lastlastx = lastx\n",
    "                            lastlasty = lasty\n",
    "                            lastx = x\n",
    "                            lasty = y\n",
    "                            x = x + 1\n",
    "                            y = y - 1\n",
    "                        elif (np.array_equal(255, edges[y, x+1 ])) and ((lastx != (x + 1)) or (lasty != y))and((lastlastx != (x + 1)) or (lastlasty != y)):\n",
    "                            lastlastx=lastx\n",
    "                            lastlasty=lasty\n",
    "                            lasty=y\n",
    "                            lastx = x\n",
    "                            x = x + 1\n",
    "                        elif (np.array_equal(255, edges[y + 1, x + 1])) and ((lastx != (x + 1)) or (lasty != (y + 1))) and ((lastlastx != (x + 1)) or (lastlasty != (y + 1))):\n",
    "                            lastlastx = lastx\n",
    "                            lastlasty = lasty\n",
    "                            lastx = x\n",
    "                            lasty = y\n",
    "                            x = x + 1\n",
    "                            y = y + 1\n",
    "\n",
    "                    elif lastx>=x and lasty<y :\n",
    "                        if (np.array_equal(255, edges[y, x+1 ])) and ((lastx != (x + 1)) or (lasty != y))and((lastlastx != (x + 1)) or (lastlasty != y)):\n",
    "                            lastlastx=lastx\n",
    "                            lastlasty=lasty\n",
    "                            lasty=y\n",
    "                            lastx = x\n",
    "                            x = x + 1\n",
    "                        elif (np.array_equal(255, edges[y + 1, x + 1])) and ((lastx != (x + 1)) or (lasty != (y + 1))) and ((lastlastx != (x + 1)) or (lastlasty != (y + 1))):\n",
    "                            lastlastx = lastx\n",
    "                            lastlasty = lasty\n",
    "                            lastx = x\n",
    "                            lasty = y\n",
    "                            x = x + 1\n",
    "                            y = y + 1\n",
    "                        elif (np.array_equal(255, edges[y+1, x])) and ((lastx != x) or (lasty != (y + 1)))and ((lastlastx != x) or (lastlasty != (y + 1))):\n",
    "                            lastlastx = lastx\n",
    "                            lastlasty = lasty\n",
    "                            lastx=x\n",
    "                            lasty = y\n",
    "                            y = y + 1\n",
    "                        elif (np.array_equal(255, edges[y + 1, x - 1])) and ((lastx != (x - 1)) or (lasty != (y + 1)))and((lastlastx != (x - 1)) or (lastlasty != (y + 1))):\n",
    "                            lastlastx = lastx\n",
    "                            lastlasty = lasty\n",
    "                            lastx = x\n",
    "                            lasty = y\n",
    "                            x = x - 1\n",
    "                            y = y + 1\n",
    "                        elif (np.array_equal(255, edges[y, x - 1])) and ((lastx != (x - 1)) or (lasty != y))and((lastlastx != (x - 1)) or (lastlasty != y)):\n",
    "                            lastlastx = lastx\n",
    "                            lastlasty = lasty\n",
    "                            lastx = x\n",
    "                            lasty= y\n",
    "                            x = x - 1\n",
    "                        elif (np.array_equal(255, edges[y - 1, x - 1])) and ((lastx != (x - 1)) or (lasty != (y - 1)))and((lastlastx != (x - 1)) or (lastlasty != (y - 1))):\n",
    "                            lastlastx = lastx\n",
    "                            lastlasty = lasty\n",
    "                            lastx = x\n",
    "                            lasty = y\n",
    "                            x = x - 1\n",
    "                            y = y - 1\n",
    "                        elif (np.array_equal(255, edges[y-1, x])) and ((lastx != x) or (lasty != (y - 1)))and((lastlastx != x) or (lastlasty != (y - 1))):\n",
    "                            lastlastx = lastx\n",
    "                            lastlasty = lasty\n",
    "                            lastx = x\n",
    "                            lasty = y\n",
    "                            x = x\n",
    "                            y = y - 1\n",
    "                        elif (np.array_equal(255, edges[y-1, x+1])) and ((lastx != (x + 1)) or (lasty != (y - 1)))and((lastlastx != (x + 1)) or (lastlasty != (y - 1))):\n",
    "                            lastlastx = lastx\n",
    "                            lastlasty = lasty\n",
    "                            lastx = x\n",
    "                            lasty = y\n",
    "                            x = x + 1\n",
    "                            y = y - 1\n",
    "                    if (x!= i or y != j) and  np.array_equal([0,0,255], frame[y, x]) and contador>20:\n",
    "                        contaQuinas=contaQuinas+1\n",
    "                        # cv2.imshow('Corners', frame)\n",
    "                        quinas.append([y,x])\n",
    "                        contador=0\n",
    "                    if x==i and y==j:\n",
    "                        sair=0\n",
    "                        # if contaQuinas == 4:\n",
    "                        #     homografias.append(quinas)\n",
    "                        # break\n",
    "                    if x < 0 or y < 0 or x>=(cols-1) or y>=(rows-1): sair=0\n",
    "                    if [y, x] in pontos:\n",
    "                        #contaQuinas=0\n",
    "                        sair=0\n",
    "\n",
    "                    pontos.append([y,x]) #\n",
    "                if contaQuinas>=4 and [y,x] in pontos :\n",
    "                    homografias.append(quinas)\n",
    "\n",
    "                quinas=[]\n",
    "                sair=1\n"
   ]
  },
  {
   "cell_type": "code",
   "execution_count": null,
   "metadata": {},
   "outputs": [],
   "source": [
    " "
   ]
  },
  {
   "cell_type": "markdown",
   "metadata": {},
   "source": [
    "### Homografia"
   ]
  },
  {
   "cell_type": "code",
   "execution_count": 29,
   "metadata": {},
   "outputs": [
    {
     "ename": "IndentationError",
     "evalue": "unexpected indent (<ipython-input-29-d3c0997a954b>, line 2)",
     "output_type": "error",
     "traceback": [
      "\u001b[0;36m  File \u001b[0;32m\"<ipython-input-29-d3c0997a954b>\"\u001b[0;36m, line \u001b[0;32m2\u001b[0m\n\u001b[0;31m    for i in homografias:\u001b[0m\n\u001b[0m    ^\u001b[0m\n\u001b[0;31mIndentationError\u001b[0m\u001b[0;31m:\u001b[0m unexpected indent\n"
     ]
    }
   ],
   "source": [
    "#HOMOGRAFIA------------------------------------------\n",
    "    for i in homografias:\n",
    "       \n",
    "        aux1 = np.array([[i[0][1], i[0][0]],[i[3][1], i[3][0]], [i[2][1], i[2][0]], [i[1][1], i[1][0]] ])\n",
    "        aux2=np.array([[0,0],[0,tamXimg],[tamYimg,tamXimg],[tamYimg,0]])\n",
    "        h, status = cv2.findHomography(aux1, aux2)\n",
    "        im_dst = cv2.warpPerspective(original, h, (tamYimg, tamXimg))\n",
    "        cv2.imshow('HOMOGRAFIA', im_dst\n"
   ]
  },
  {
   "cell_type": "code",
   "execution_count": null,
   "metadata": {},
   "outputs": [],
   "source": []
  },
  {
   "cell_type": "code",
   "execution_count": null,
   "metadata": {},
   "outputs": [],
   "source": [
    " if METODO == 0:\n",
    "            erro1 = compara1(im_dst, alvo1)\n",
    "            erro2 = compara1(im_dst, alvo2)\n",
    "            erro3 = compara1(im_dst, alvo3)\n",
    "            erro4 = compara1(im_dst, alvo4)\n",
    "\n",
    "            if erro1 <= 12000:\n",
    "                final = cv2.line(final, (i[0][1], i[0][0]), (i[3][1], i[3][0]), (255, 0, 0), 2)\n",
    "                final = cv2.line(final, (i[3][1], i[3][0]), (i[2][1], i[2][0]), (0, 255, 0), 2)\n",
    "                final = cv2.line(final, (i[2][1], i[2][0]), (i[1][1], i[1][0]), (0, 0, 255), 2)\n",
    "                final = cv2.line(final, (i[1][1], i[1][0]), (i[0][1], i[0][0]), (255, 255, 0), 2)\n",
    "            if erro2<=12000:\n",
    "                final = cv2.line(final, (i[0][1], i[0][0]), (i[3][1], i[3][0]), (255, 255, 0), 2)\n",
    "                final = cv2.line(final, (i[3][1], i[3][0]), (i[2][1], i[2][0]), (255, 0, 0), 2)\n",
    "                final = cv2.line(final, (i[2][1], i[2][0]), (i[1][1], i[1][0]), (0, 255, 0), 2)\n",
    "                final = cv2.line(final, (i[1][1], i[1][0]), (i[0][1], i[0][0]), (0, 0 , 255), 2)\n",
    "            if erro3<=12000:\n",
    "                final = cv2.line(final, (i[0][1], i[0][0]), (i[3][1], i[3][0]), (0, 0, 255), 2)\n",
    "                final = cv2.line(final, (i[3][1], i[3][0]), (i[2][1], i[2][0]), (255, 255, 0), 2)\n",
    "                final = cv2.line(final, (i[2][1], i[2][0]), (i[1][1], i[1][0]), (255, 0, 0), 2)\n",
    "                final = cv2.line(final, (i[1][1], i[1][0]), (i[0][1], i[0][0]), (0, 255, 0), 2)\n",
    "            if  erro4<=12000:\n",
    "                final = cv2.line(final, (i[0][1], i[0][0]), (i[3][1], i[3][0]), (0, 255, 0), 2)\n",
    "                final = cv2.line(final, (i[3][1], i[3][0]), (i[2][1], i[2][0]), (0, 0, 255), 2)\n",
    "                final = cv2.line(final, (i[2][1], i[2][0]), (i[1][1], i[1][0]), (255, 255, 0), 2)\n",
    "                final = cv2.line(final, (i[1][1], i[1][0]), (i[0][1], i[0][0]), (255, 0 , 0), 2)"
   ]
  },
  {
   "cell_type": "code",
   "execution_count": null,
   "metadata": {},
   "outputs": [],
   "source": [
    " else :\n",
    "            erro1 = compara2(im_dst, alvo1)\n",
    "            erro2 = compara2(im_dst, alvo2)\n",
    "            erro3 = compara2(im_dst, alvo3)\n",
    "            erro4 = compara2(im_dst, alvo4)\n",
    "\n",
    "            if erro1 >= 0.75:\n",
    "                final = cv2.line(final, (i[0][1], i[0][0]), (i[3][1], i[3][0]), (255, 0, 0), 2)\n",
    "                final = cv2.line(final, (i[3][1], i[3][0]), (i[2][1], i[2][0]), (0, 255, 0), 2)\n",
    "                final = cv2.line(final, (i[2][1], i[2][0]), (i[1][1], i[1][0]), (0, 0, 255), 2)\n",
    "                final = cv2.line(final, (i[1][1], i[1][0]), (i[0][1], i[0][0]), (255, 255, 0), 2)\n",
    "            if erro2 >= 0.75:\n",
    "                final = cv2.line(final, (i[0][1], i[0][0]), (i[3][1], i[3][0]), (255, 255, 0), 2)\n",
    "                final = cv2.line(final, (i[3][1], i[3][0]), (i[2][1], i[2][0]), (255, 0, 0), 2)\n",
    "                final = cv2.line(final, (i[2][1], i[2][0]), (i[1][1], i[1][0]), (0, 255, 0), 2)\n",
    "                final = cv2.line(final, (i[1][1], i[1][0]), (i[0][1], i[0][0]), (0, 0, 255), 2)\n",
    "            if erro3 >= 0.75:\n",
    "                final = cv2.line(final, (i[0][1], i[0][0]), (i[3][1], i[3][0]), (0, 0, 255), 2)\n",
    "                final = cv2.line(final, (i[3][1], i[3][0]), (i[2][1], i[2][0]), (255, 255, 0), 2)\n",
    "                final = cv2.line(final, (i[2][1], i[2][0]), (i[1][1], i[1][0]), (255, 0, 0), 2)\n",
    "                final = cv2.line(final, (i[1][1], i[1][0]), (i[0][1], i[0][0]), (0, 255, 0), 2)\n",
    "            if erro4 >= 0.75:\n",
    "                final = cv2.line(final, (i[0][1], i[0][0]), (i[3][1], i[3][0]), (0, 255, 0), 2)\n",
    "                final = cv2.line(final, (i[3][1], i[3][0]), (i[2][1], i[2][0]), (0, 0, 255), 2)\n",
    "                final = cv2.line(final, (i[2][1], i[2][0]), (i[1][1], i[1][0]), (255, 255, 0), 2)\n",
    "                final = cv2.line(final, (i[1][1], i[1][0]), (i[0][1], i[0][0]), (255, 0, 0), 2)"
   ]
  },
  {
   "cell_type": "code",
   "execution_count": null,
   "metadata": {},
   "outputs": [],
   "source": [
    "   cv2.imshow('FINAL',final)\n",
    "    out.write(final)\n",
    "    # Display edges in a frame\n",
    "   # cv2.imshow('Edges', edges)\n",
    "    #cv2.imshow('Corners', frame)\n",
    "    # Wait for Esc key to stop\n",
    "    k = cv2.waitKey(5) & 0xFF\n",
    "    if k == 27:\n",
    "        break\n"
   ]
  },
  {
   "cell_type": "code",
   "execution_count": null,
   "metadata": {},
   "outputs": [],
   "source": [
    "### Close the window\n",
    "cap.release()\n",
    "out.release()\n",
    "\n",
    "#\n",
    "# De-allocate any associated memory usage\n",
    "cv2.destroyAllWindows()"
   ]
  }
 ],
 "metadata": {
  "kernelspec": {
   "display_name": "Python 3",
   "language": "python",
   "name": "python3"
  },
  "language_info": {
   "codemirror_mode": {
    "name": "ipython",
    "version": 3
   },
   "file_extension": ".py",
   "mimetype": "text/x-python",
   "name": "python",
   "nbconvert_exporter": "python",
   "pygments_lexer": "ipython3",
   "version": "3.7.4"
  }
 },
 "nbformat": 4,
 "nbformat_minor": 2
}
