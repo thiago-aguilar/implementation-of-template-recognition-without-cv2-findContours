{
 "cells": [
  {
   "cell_type": "code",
   "execution_count": 2,
   "metadata": {},
   "outputs": [
    {
     "name": "stdout",
     "output_type": "stream",
     "text": [
      "Tamanho Imagem: X: 328    Y: 321\n",
      "Tamanho Frame: X: 639     Y: 479\n"
     ]
    },
    {
     "data": {
      "image/png": "[encoded data removed]",
      "text/plain": [
       "<Figure size 432x288 with 1 Axes>"
      ]
     },
     "metadata": {
      "needs_background": "light"
     },
     "output_type": "display_data"
    }
   ],
   "source": [
    "import cv2\n",
    "import numpy as np\n",
    "import math\n",
    "from matplotlib import pyplot as plt\n",
    "\n",
    "img = cv2.imread('alvo.jpg',0)\n",
    "\n",
    "cv2.imshow('image',img)\n",
    "imgplot = plt.imshow(img)\n",
    "\n",
    "\n",
    "  \n",
    "  \n",
    "# capture frames from a camera \n",
    "cap = cv2.VideoCapture('entrada.avi') \n",
    "#pega dimensões do alvo e do frame\n",
    "tamXimg=img.shape[1]\n",
    "tamYimg=img.shape[0]\n",
    "witdh = cap.get(3)  # float\n",
    "height = cap.get(4) # float\n",
    "rows=math.floor(witdh) #transforma em int\n",
    "cols=math.floor(height) #transforma em int\n",
    "rows=rows-1\n",
    "cols=cols-1\n",
    "# loop runs if capturing has been initialized \n",
    "while(1): \n",
    "  \n",
    "    # reads frames from a camera \n",
    "    ret, frame = cap.read() \n",
    "  \n",
    "    # converting BGR to HSV \n",
    "    hsv = cv2.cvtColor(frame, cv2.COLOR_BGR2HSV)\n",
    "    gray = cv2.cvtColor(frame,cv2.COLOR_BGR2GRAY) \n",
    "    gray = np.float32(gray)  \n",
    "    # define range of red color in HSV \n",
    "    lower_red = np.array([30,150,50]) \n",
    "    upper_red = np.array([255,255,180]) \n",
    "      \n",
    "    # create a red HSV colour boundary and  \n",
    "    # threshold HSV image \n",
    "    mask = cv2.inRange(hsv, lower_red, upper_red) \n",
    "    dst = cv2.cornerHarris(gray,2,3,0.04)\n",
    "    # Bitwise-AND mask and original image \n",
    "    res = cv2.bitwise_and(frame,frame, mask= mask) \n",
    "  \n",
    "    # Display an original image \n",
    "    #cv2.imshow('Original',frame) \n",
    "  \n",
    "    # finds edges in the input image image and \n",
    "    # marks them in the output map edges \n",
    "    edges = cv2.Canny(frame,100,200,300)\n",
    "    frame[dst>0.01*dst.max()]=[0,0,255] \n",
    "    CornersEdges=np.array([[]])\n",
    "    \n",
    "    #varre o frame procurando por bordas\n",
    "    for i in range(rows):\n",
    "        for j in range(cols):\n",
    "            if  np.array_equal([0,0,255],frame[j,i]) and np.array_equal(255,edges[j,i]): \n",
    "                CornersEdges = np.append(CornersEdges, [i,j])\n",
    "                \n",
    "    # Display edges in a frame \n",
    "    cv2.imshow('Edges',edges) \n",
    "    cv2.imshow('Corners', frame)\t\n",
    "    # Wait for Esc key to stop \n",
    "    k = cv2.waitKey(5) & 0xFF\n",
    "    if k == 27: \n",
    "        break\n",
    "    CornersEdges = np.delete(CornersEdges, 0, axis=0)\n",
    "\n",
    "  \n",
    "# Close the window \n",
    "cap.release() \n",
    "  \n",
    "# De-allocate any associated memory usage \n",
    "cv2.destroyAllWindows() \n",
    "\n",
    "print('Tamanho Imagem: X:',tamXimg,'   Y:',tamYimg)\n",
    "print('Tamanho Frame: X:',rows,'    Y:',cols)\n"
   ]
  },
  {
   "cell_type": "code",
   "execution_count": 3,
   "metadata": {},
   "outputs": [
    {
     "name": "stdout",
     "output_type": "stream",
     "text": [
      "2056\n"
     ]
    }
   ],
   "source": [
    "print(CornersEdges.shape[0])"
   ]
  },
  {
   "cell_type": "code",
   "execution_count": null,
   "metadata": {},
   "outputs": [],
   "source": []
  }
 ],
 "metadata": {
  "kernelspec": {
   "display_name": "ambiente",
   "language": "python",
   "name": "ambiente"
  },
  "language_info": {
   "codemirror_mode": {
    "name": "ipython",
    "version": 3
   },
   "file_extension": ".py",
   "mimetype": "text/x-python",
   "name": "python",
   "nbconvert_exporter": "python",
   "pygments_lexer": "ipython3",
   "version": "3.6.5"
  }
 },
 "nbformat": 4,
 "nbformat_minor": 2
}
